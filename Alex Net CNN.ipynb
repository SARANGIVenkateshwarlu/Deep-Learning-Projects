{
 "cells": [
  {
   "cell_type": "markdown",
   "id": "7d7a6423",
   "metadata": {},
   "source": [
    "**Alex Net CNN**"
   ]
  }
 ],
 "metadata": {
  "language_info": {
   "name": "python"
  }
 },
 "nbformat": 4,
 "nbformat_minor": 5
}
